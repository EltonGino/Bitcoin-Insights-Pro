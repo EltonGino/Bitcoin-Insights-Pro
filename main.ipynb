{
 "cells": [
  {
   "cell_type": "code",
   "id": "initial_id",
   "metadata": {
    "collapsed": true,
    "ExecuteTime": {
     "end_time": "2025-08-01T02:54:59.365266Z",
     "start_time": "2025-08-01T02:54:56.817965Z"
    }
   },
   "source": "!pip install pandas numpy matplotlib seaborn plotly\n",
   "outputs": [
    {
     "name": "stdout",
     "output_type": "stream",
     "text": [
      "Requirement already satisfied: pandas in ./.venv/lib/python3.12/site-packages (2.3.1)\r\n",
      "Requirement already satisfied: numpy in ./.venv/lib/python3.12/site-packages (2.3.2)\r\n",
      "Requirement already satisfied: matplotlib in ./.venv/lib/python3.12/site-packages (3.10.5)\r\n",
      "Collecting seaborn\r\n",
      "  Using cached seaborn-0.13.2-py3-none-any.whl.metadata (5.4 kB)\r\n",
      "Collecting plotly\r\n",
      "  Downloading plotly-6.2.0-py3-none-any.whl.metadata (8.5 kB)\r\n",
      "Requirement already satisfied: python-dateutil>=2.8.2 in ./.venv/lib/python3.12/site-packages (from pandas) (2.9.0.post0)\r\n",
      "Requirement already satisfied: pytz>=2020.1 in ./.venv/lib/python3.12/site-packages (from pandas) (2025.2)\r\n",
      "Requirement already satisfied: tzdata>=2022.7 in ./.venv/lib/python3.12/site-packages (from pandas) (2025.2)\r\n",
      "Requirement already satisfied: contourpy>=1.0.1 in ./.venv/lib/python3.12/site-packages (from matplotlib) (1.3.3)\r\n",
      "Requirement already satisfied: cycler>=0.10 in ./.venv/lib/python3.12/site-packages (from matplotlib) (0.12.1)\r\n",
      "Requirement already satisfied: fonttools>=4.22.0 in ./.venv/lib/python3.12/site-packages (from matplotlib) (4.59.0)\r\n",
      "Requirement already satisfied: kiwisolver>=1.3.1 in ./.venv/lib/python3.12/site-packages (from matplotlib) (1.4.8)\r\n",
      "Requirement already satisfied: packaging>=20.0 in ./.venv/lib/python3.12/site-packages (from matplotlib) (25.0)\r\n",
      "Requirement already satisfied: pillow>=8 in ./.venv/lib/python3.12/site-packages (from matplotlib) (11.3.0)\r\n",
      "Requirement already satisfied: pyparsing>=2.3.1 in ./.venv/lib/python3.12/site-packages (from matplotlib) (3.2.3)\r\n",
      "Collecting narwhals>=1.15.1 (from plotly)\r\n",
      "  Downloading narwhals-2.0.1-py3-none-any.whl.metadata (11 kB)\r\n",
      "Requirement already satisfied: six>=1.5 in ./.venv/lib/python3.12/site-packages (from python-dateutil>=2.8.2->pandas) (1.17.0)\r\n",
      "Using cached seaborn-0.13.2-py3-none-any.whl (294 kB)\r\n",
      "Downloading plotly-6.2.0-py3-none-any.whl (9.6 MB)\r\n",
      "\u001B[2K   \u001B[90m━━━━━━━━━━━━━━━━━━━━━━━━━━━━━━━━━━━━━━━━\u001B[0m \u001B[32m9.6/9.6 MB\u001B[0m \u001B[31m49.8 MB/s\u001B[0m eta \u001B[36m0:00:00\u001B[0ma \u001B[36m0:00:01\u001B[0m\r\n",
      "\u001B[?25hDownloading narwhals-2.0.1-py3-none-any.whl (385 kB)\r\n",
      "Installing collected packages: narwhals, plotly, seaborn\r\n",
      "Successfully installed narwhals-2.0.1 plotly-6.2.0 seaborn-0.13.2\r\n",
      "\r\n",
      "\u001B[1m[\u001B[0m\u001B[34;49mnotice\u001B[0m\u001B[1;39;49m]\u001B[0m\u001B[39;49m A new release of pip is available: \u001B[0m\u001B[31;49m24.3.1\u001B[0m\u001B[39;49m -> \u001B[0m\u001B[32;49m25.2\u001B[0m\r\n",
      "\u001B[1m[\u001B[0m\u001B[34;49mnotice\u001B[0m\u001B[1;39;49m]\u001B[0m\u001B[39;49m To update, run: \u001B[0m\u001B[32;49mpip install --upgrade pip\u001B[0m\r\n"
     ]
    }
   ],
   "execution_count": 1
  },
  {
   "metadata": {
    "ExecuteTime": {
     "end_time": "2025-08-01T03:00:07.587696Z",
     "start_time": "2025-08-01T03:00:07.584802Z"
    }
   },
   "cell_type": "code",
   "source": [
    "import pandas as pd\n",
    "import numpy as np\n",
    "import matplotlib.pyplot as plt\n",
    "import seaborn as sns\n",
    "import plotly.express as px"
   ],
   "id": "b0ed558fd1b4b37d",
   "outputs": [],
   "execution_count": 3
  },
  {
   "metadata": {
    "ExecuteTime": {
     "end_time": "2025-08-01T03:02:38.610149Z",
     "start_time": "2025-08-01T03:02:38.442044Z"
    }
   },
   "cell_type": "code",
   "source": [
    "#Load the dataset\n",
    "df = pd.read_csv(\"./data/Bitcoin_history_data.csv\", parse_dates=['Date'])\n",
    "# Display the first few rows of the dataset\n",
    "df.head()"
   ],
   "id": "c67f5345aafd740e",
   "outputs": [
    {
     "data": {
      "text/plain": [
       "        Date       Close        High         Low        Open    Volume\n",
       "0 2014-09-17  457.334015  468.174011  452.421997  465.864014  21056800\n",
       "1 2014-09-18  424.440002  456.859985  413.104004  456.859985  34483200\n",
       "2 2014-09-19  394.795990  427.834991  384.532013  424.102997  37919700\n",
       "3 2014-09-20  408.903992  423.295990  389.882996  394.673004  36863600\n",
       "4 2014-09-21  398.821014  412.425995  393.181000  408.084991  26580100"
      ],
      "text/html": [
       "<div>\n",
       "<style scoped>\n",
       "    .dataframe tbody tr th:only-of-type {\n",
       "        vertical-align: middle;\n",
       "    }\n",
       "\n",
       "    .dataframe tbody tr th {\n",
       "        vertical-align: top;\n",
       "    }\n",
       "\n",
       "    .dataframe thead th {\n",
       "        text-align: right;\n",
       "    }\n",
       "</style>\n",
       "<table border=\"1\" class=\"dataframe\">\n",
       "  <thead>\n",
       "    <tr style=\"text-align: right;\">\n",
       "      <th></th>\n",
       "      <th>Date</th>\n",
       "      <th>Close</th>\n",
       "      <th>High</th>\n",
       "      <th>Low</th>\n",
       "      <th>Open</th>\n",
       "      <th>Volume</th>\n",
       "    </tr>\n",
       "  </thead>\n",
       "  <tbody>\n",
       "    <tr>\n",
       "      <th>0</th>\n",
       "      <td>2014-09-17</td>\n",
       "      <td>457.334015</td>\n",
       "      <td>468.174011</td>\n",
       "      <td>452.421997</td>\n",
       "      <td>465.864014</td>\n",
       "      <td>21056800</td>\n",
       "    </tr>\n",
       "    <tr>\n",
       "      <th>1</th>\n",
       "      <td>2014-09-18</td>\n",
       "      <td>424.440002</td>\n",
       "      <td>456.859985</td>\n",
       "      <td>413.104004</td>\n",
       "      <td>456.859985</td>\n",
       "      <td>34483200</td>\n",
       "    </tr>\n",
       "    <tr>\n",
       "      <th>2</th>\n",
       "      <td>2014-09-19</td>\n",
       "      <td>394.795990</td>\n",
       "      <td>427.834991</td>\n",
       "      <td>384.532013</td>\n",
       "      <td>424.102997</td>\n",
       "      <td>37919700</td>\n",
       "    </tr>\n",
       "    <tr>\n",
       "      <th>3</th>\n",
       "      <td>2014-09-20</td>\n",
       "      <td>408.903992</td>\n",
       "      <td>423.295990</td>\n",
       "      <td>389.882996</td>\n",
       "      <td>394.673004</td>\n",
       "      <td>36863600</td>\n",
       "    </tr>\n",
       "    <tr>\n",
       "      <th>4</th>\n",
       "      <td>2014-09-21</td>\n",
       "      <td>398.821014</td>\n",
       "      <td>412.425995</td>\n",
       "      <td>393.181000</td>\n",
       "      <td>408.084991</td>\n",
       "      <td>26580100</td>\n",
       "    </tr>\n",
       "  </tbody>\n",
       "</table>\n",
       "</div>"
      ]
     },
     "execution_count": 4,
     "metadata": {},
     "output_type": "execute_result"
    }
   ],
   "execution_count": 4
  },
  {
   "metadata": {
    "ExecuteTime": {
     "end_time": "2025-08-01T03:07:04.930348Z",
     "start_time": "2025-08-01T03:07:04.916854Z"
    }
   },
   "cell_type": "code",
   "source": [
    "df.info()\n",
    "df.isnull().sum()"
   ],
   "id": "13b8ed90abf1ebfc",
   "outputs": [
    {
     "name": "stdout",
     "output_type": "stream",
     "text": [
      "<class 'pandas.core.frame.DataFrame'>\n",
      "RangeIndex: 3966 entries, 0 to 3965\n",
      "Data columns (total 6 columns):\n",
      " #   Column  Non-Null Count  Dtype         \n",
      "---  ------  --------------  -----         \n",
      " 0   Date    3966 non-null   datetime64[ns]\n",
      " 1   Close   3966 non-null   float64       \n",
      " 2   High    3966 non-null   float64       \n",
      " 3   Low     3966 non-null   float64       \n",
      " 4   Open    3966 non-null   float64       \n",
      " 5   Volume  3966 non-null   int64         \n",
      "dtypes: datetime64[ns](1), float64(4), int64(1)\n",
      "memory usage: 186.0 KB\n"
     ]
    },
    {
     "data": {
      "text/plain": [
       "Date      0\n",
       "Close     0\n",
       "High      0\n",
       "Low       0\n",
       "Open      0\n",
       "Volume    0\n",
       "dtype: int64"
      ]
     },
     "execution_count": 5,
     "metadata": {},
     "output_type": "execute_result"
    }
   ],
   "execution_count": 5
  },
  {
   "metadata": {
    "ExecuteTime": {
     "end_time": "2025-08-01T03:07:17.107304Z",
     "start_time": "2025-08-01T03:07:16.953266Z"
    }
   },
   "cell_type": "code",
   "source": "df.describe()",
   "id": "4d0be47d0d16667c",
   "outputs": [
    {
     "data": {
      "text/plain": [
       "                      Date          Close           High            Low  \\\n",
       "count                 3966    3966.000000    3966.000000    3966.000000   \n",
       "mean   2020-02-20 12:00:00   23700.720916   24175.471292   23148.369852   \n",
       "min    2014-09-17 00:00:00     178.102997     211.731003     171.509995   \n",
       "25%    2017-06-04 06:00:00    2319.264893    2416.029968    2224.777466   \n",
       "50%    2020-02-20 12:00:00   10134.783203   10313.309082    9752.528809   \n",
       "75%    2022-11-07 18:00:00   37845.019531   39048.439453   36837.160156   \n",
       "max    2025-07-26 00:00:00  119995.414062  123091.609375  118959.195312   \n",
       "std                    NaN   27883.043425   28377.641054   27301.538662   \n",
       "\n",
       "                Open        Volume  \n",
       "count    3966.000000  3.966000e+03  \n",
       "mean    23672.235699  2.005692e+10  \n",
       "min       176.897003  5.914570e+06  \n",
       "25%      2321.009949  9.596135e+08  \n",
       "50%     10130.225586  1.612212e+10  \n",
       "75%     37818.786133  3.140978e+10  \n",
       "max    119997.445312  3.509679e+11  \n",
       "std     27846.447559  2.142796e+10  "
      ],
      "text/html": [
       "<div>\n",
       "<style scoped>\n",
       "    .dataframe tbody tr th:only-of-type {\n",
       "        vertical-align: middle;\n",
       "    }\n",
       "\n",
       "    .dataframe tbody tr th {\n",
       "        vertical-align: top;\n",
       "    }\n",
       "\n",
       "    .dataframe thead th {\n",
       "        text-align: right;\n",
       "    }\n",
       "</style>\n",
       "<table border=\"1\" class=\"dataframe\">\n",
       "  <thead>\n",
       "    <tr style=\"text-align: right;\">\n",
       "      <th></th>\n",
       "      <th>Date</th>\n",
       "      <th>Close</th>\n",
       "      <th>High</th>\n",
       "      <th>Low</th>\n",
       "      <th>Open</th>\n",
       "      <th>Volume</th>\n",
       "    </tr>\n",
       "  </thead>\n",
       "  <tbody>\n",
       "    <tr>\n",
       "      <th>count</th>\n",
       "      <td>3966</td>\n",
       "      <td>3966.000000</td>\n",
       "      <td>3966.000000</td>\n",
       "      <td>3966.000000</td>\n",
       "      <td>3966.000000</td>\n",
       "      <td>3.966000e+03</td>\n",
       "    </tr>\n",
       "    <tr>\n",
       "      <th>mean</th>\n",
       "      <td>2020-02-20 12:00:00</td>\n",
       "      <td>23700.720916</td>\n",
       "      <td>24175.471292</td>\n",
       "      <td>23148.369852</td>\n",
       "      <td>23672.235699</td>\n",
       "      <td>2.005692e+10</td>\n",
       "    </tr>\n",
       "    <tr>\n",
       "      <th>min</th>\n",
       "      <td>2014-09-17 00:00:00</td>\n",
       "      <td>178.102997</td>\n",
       "      <td>211.731003</td>\n",
       "      <td>171.509995</td>\n",
       "      <td>176.897003</td>\n",
       "      <td>5.914570e+06</td>\n",
       "    </tr>\n",
       "    <tr>\n",
       "      <th>25%</th>\n",
       "      <td>2017-06-04 06:00:00</td>\n",
       "      <td>2319.264893</td>\n",
       "      <td>2416.029968</td>\n",
       "      <td>2224.777466</td>\n",
       "      <td>2321.009949</td>\n",
       "      <td>9.596135e+08</td>\n",
       "    </tr>\n",
       "    <tr>\n",
       "      <th>50%</th>\n",
       "      <td>2020-02-20 12:00:00</td>\n",
       "      <td>10134.783203</td>\n",
       "      <td>10313.309082</td>\n",
       "      <td>9752.528809</td>\n",
       "      <td>10130.225586</td>\n",
       "      <td>1.612212e+10</td>\n",
       "    </tr>\n",
       "    <tr>\n",
       "      <th>75%</th>\n",
       "      <td>2022-11-07 18:00:00</td>\n",
       "      <td>37845.019531</td>\n",
       "      <td>39048.439453</td>\n",
       "      <td>36837.160156</td>\n",
       "      <td>37818.786133</td>\n",
       "      <td>3.140978e+10</td>\n",
       "    </tr>\n",
       "    <tr>\n",
       "      <th>max</th>\n",
       "      <td>2025-07-26 00:00:00</td>\n",
       "      <td>119995.414062</td>\n",
       "      <td>123091.609375</td>\n",
       "      <td>118959.195312</td>\n",
       "      <td>119997.445312</td>\n",
       "      <td>3.509679e+11</td>\n",
       "    </tr>\n",
       "    <tr>\n",
       "      <th>std</th>\n",
       "      <td>NaN</td>\n",
       "      <td>27883.043425</td>\n",
       "      <td>28377.641054</td>\n",
       "      <td>27301.538662</td>\n",
       "      <td>27846.447559</td>\n",
       "      <td>2.142796e+10</td>\n",
       "    </tr>\n",
       "  </tbody>\n",
       "</table>\n",
       "</div>"
      ]
     },
     "execution_count": 6,
     "metadata": {},
     "output_type": "execute_result"
    }
   ],
   "execution_count": 6
  },
  {
   "metadata": {
    "ExecuteTime": {
     "end_time": "2025-08-01T03:07:41.848497Z",
     "start_time": "2025-08-01T03:07:41.845168Z"
    }
   },
   "cell_type": "code",
   "source": "df.sort_values('Date', inplace=True)",
   "id": "dbf57355f5f6f835",
   "outputs": [],
   "execution_count": 7
  },
  {
   "metadata": {
    "ExecuteTime": {
     "end_time": "2025-08-01T03:07:51.948013Z",
     "start_time": "2025-08-01T03:07:51.798412Z"
    }
   },
   "cell_type": "code",
   "source": "df.duplicated().sum()",
   "id": "cf032d88967ca04f",
   "outputs": [
    {
     "data": {
      "text/plain": [
       "np.int64(0)"
      ]
     },
     "execution_count": 8,
     "metadata": {},
     "output_type": "execute_result"
    }
   ],
   "execution_count": 8
  },
  {
   "metadata": {},
   "cell_type": "code",
   "outputs": [],
   "execution_count": null,
   "source": "",
   "id": "45af8b7f1115127d"
  }
 ],
 "metadata": {
  "kernelspec": {
   "display_name": "Python 3",
   "language": "python",
   "name": "python3"
  },
  "language_info": {
   "codemirror_mode": {
    "name": "ipython",
    "version": 2
   },
   "file_extension": ".py",
   "mimetype": "text/x-python",
   "name": "python",
   "nbconvert_exporter": "python",
   "pygments_lexer": "ipython2",
   "version": "2.7.6"
  }
 },
 "nbformat": 4,
 "nbformat_minor": 5
}
